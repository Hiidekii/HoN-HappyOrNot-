{
 "cells": [
  {
   "cell_type": "code",
   "execution_count": null,
   "id": "d83c4a5f",
   "metadata": {},
   "outputs": [],
   "source": [
    "from predict import *\n"
   ]
  },
  {
   "cell_type": "code",
   "execution_count": 1,
   "id": "0bd13d15",
   "metadata": {},
   "outputs": [
    {
     "ename": "SystemExit",
     "evalue": "0",
     "output_type": "error",
     "traceback": [
      "An exception has occurred, use %tb to see the full traceback.\n",
      "\u001b[0;31mSystemExit\u001b[0m\u001b[0;31m:\u001b[0m 0\n"
     ]
    },
    {
     "name": "stderr",
     "output_type": "stream",
     "text": [
      "/home/oobonioo/miniconda3/envs/happy/lib/python3.8/site-packages/IPython/core/interactiveshell.py:3452: UserWarning: To exit: use 'exit', 'quit', or Ctrl-D.\n",
      "  warn(\"To exit: use 'exit', 'quit', or Ctrl-D.\", stacklevel=1)\n"
     ]
    }
   ],
   "source": [
    "import sys\n",
    "from PyQt5.QtGui import *\n",
    "from PyQt5.QtWidgets import *\n",
    "from PyQt5.QtCore import *\n",
    "import cv2\n",
    "from matplotlib import pyplot as plt\n",
    "import numpy as np\n",
    "\n",
    "face_cascade = cv2.CascadeClassifier('assets/haarcascade_frontalface_default.xml')\n",
    "\n",
    "class MainWindow(QWidget):\n",
    "    def __init__(self):\n",
    "        super(MainWindow, self).__init__()\n",
    "\n",
    "        self.VBL = QVBoxLayout()\n",
    "\n",
    "        self.FeedLabel = QLabel()\n",
    "        self.VBL.addWidget(self.FeedLabel)\n",
    "\n",
    "        self.CancelBTN = QPushButton(\"Cancel\")\n",
    "        self.CancelBTN.clicked.connect(self.CancelFeed)\n",
    "        self.VBL.addWidget(self.CancelBTN)\n",
    "\n",
    "        self.Worker1 = Worker1()\n",
    "\n",
    "        self.Worker1.start()\n",
    "        self.Worker1.ImageUpdate.connect(self.ImageUpdateSlot)\n",
    "        self.setLayout(self.VBL)\n",
    "\n",
    "    def ImageUpdateSlot(self, Image):\n",
    "        self.FeedLabel.setPixmap(QPixmap.fromImage(Image))\n",
    "\n",
    "    def CancelFeed(self):\n",
    "        self.Worker1.stop()\n",
    "\n",
    "class Worker1(QThread):\n",
    "    ImageUpdate = pyqtSignal(QImage)\n",
    "    def run(self):\n",
    "        self.ThreadActive = True\n",
    "        Capture = cv2.VideoCapture(0)\n",
    "        while self.ThreadActive:\n",
    "            ret, frame = Capture.read()\n",
    "            if ret:\n",
    "                Image = cv2.cvtColor(frame, cv2.COLOR_BGR2RGB)\n",
    "                FlippedImage = cv2.flip(Image, 1)\n",
    "                gray = cv2.cvtColor(Image, cv2.COLOR_BGR2GRAY)\n",
    "                faces = face_cascade.detectMultiScale(gray, 1.3, 5)\n",
    "                \n",
    "                for (x,y,w,h) in faces:\n",
    "                    cv2.rectangle(Image,(x,y),(x+w,y+h),(255,0,0),2)\n",
    "                    roi_gray = gray[y:y+h, x:x+w]\n",
    "                    roi_color = Image[y:y+h, x:x+w]\n",
    "                    \n",
    "                ConvertToQtFormat = QImage(FlippedImage.data, FlippedImage.shape[1], FlippedImage.shape[0], QImage.Format_RGB888)\n",
    "                Pic = ConvertToQtFormat.scaled(640, 480, Qt.KeepAspectRatio)\n",
    "                self.ImageUpdate.emit(Pic)\n",
    "    def stop(self):\n",
    "        self.ThreadActive = False\n",
    "        self.quit()\n",
    "\n",
    "if __name__ == \"__main__\":\n",
    "    App = QApplication(sys.argv)\n",
    "    Root = MainWindow()\n",
    "    Root.show()\n",
    "    sys.exit(App.exec())"
   ]
  },
  {
   "cell_type": "code",
   "execution_count": null,
   "id": "b5ad653c",
   "metadata": {},
   "outputs": [],
   "source": []
  }
 ],
 "metadata": {
  "kernelspec": {
   "display_name": "Python 3",
   "language": "python",
   "name": "python3"
  },
  "language_info": {
   "codemirror_mode": {
    "name": "ipython",
    "version": 3
   },
   "file_extension": ".py",
   "mimetype": "text/x-python",
   "name": "python",
   "nbconvert_exporter": "python",
   "pygments_lexer": "ipython3",
   "version": "3.8.12"
  }
 },
 "nbformat": 4,
 "nbformat_minor": 5
}
