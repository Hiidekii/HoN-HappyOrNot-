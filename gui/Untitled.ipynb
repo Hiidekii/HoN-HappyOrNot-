{
 "cells": [
  {
   "cell_type": "code",
   "execution_count": 1,
   "id": "87d9d547",
   "metadata": {},
   "outputs": [
    {
     "name": "stdout",
     "output_type": "stream",
     "text": [
      "Model: \"sequential\"\n",
      "_________________________________________________________________\n",
      " Layer (type)                Output Shape              Param #   \n",
      "=================================================================\n",
      " conv1d (Conv1D)             (None, 47, 64)            6208      \n",
      "                                                                 \n",
      " max_pooling1d (MaxPooling1D  (None, 23, 64)           0         \n",
      " )                                                               \n",
      "                                                                 \n",
      " batch_normalization (BatchN  (None, 23, 64)           256       \n",
      " ormalization)                                                   \n",
      "                                                                 \n",
      " dropout (Dropout)           (None, 23, 64)            0         \n",
      "                                                                 \n",
      " conv1d_1 (Conv1D)           (None, 22, 128)           16512     \n",
      "                                                                 \n",
      " max_pooling1d_1 (MaxPooling  (None, 11, 128)          0         \n",
      " 1D)                                                             \n",
      "                                                                 \n",
      " batch_normalization_1 (Batc  (None, 11, 128)          512       \n",
      " hNormalization)                                                 \n",
      "                                                                 \n",
      " dropout_1 (Dropout)         (None, 11, 128)           0         \n",
      "                                                                 \n",
      " conv1d_2 (Conv1D)           (None, 10, 256)           65792     \n",
      "                                                                 \n",
      " max_pooling1d_2 (MaxPooling  (None, 5, 256)           0         \n",
      " 1D)                                                             \n",
      "                                                                 \n",
      " batch_normalization_2 (Batc  (None, 5, 256)           1024      \n",
      " hNormalization)                                                 \n",
      "                                                                 \n",
      " dropout_2 (Dropout)         (None, 5, 256)            0         \n",
      "                                                                 \n",
      " conv1d_3 (Conv1D)           (None, 4, 512)            262656    \n",
      "                                                                 \n",
      " max_pooling1d_3 (MaxPooling  (None, 2, 512)           0         \n",
      " 1D)                                                             \n",
      "                                                                 \n",
      " batch_normalization_3 (Batc  (None, 2, 512)           2048      \n",
      " hNormalization)                                                 \n",
      "                                                                 \n",
      " dropout_3 (Dropout)         (None, 2, 512)            0         \n",
      "                                                                 \n",
      " flatten (Flatten)           (None, 1024)              0         \n",
      "                                                                 \n",
      " dense (Dense)               (None, 64)                65600     \n",
      "                                                                 \n",
      " dense_1 (Dense)             (None, 128)               8320      \n",
      "                                                                 \n",
      " dense_2 (Dense)             (None, 256)               33024     \n",
      "                                                                 \n",
      " dropout_4 (Dropout)         (None, 256)               0         \n",
      "                                                                 \n",
      " batch_normalization_4 (Batc  (None, 256)              1024      \n",
      " hNormalization)                                                 \n",
      "                                                                 \n",
      " dense_3 (Dense)             (None, 7)                 1799      \n",
      "                                                                 \n",
      "=================================================================\n",
      "Total params: 464,775\n",
      "Trainable params: 462,343\n",
      "Non-trainable params: 2,432\n",
      "_________________________________________________________________\n"
     ]
    }
   ],
   "source": [
    "from predict import *\n"
   ]
  },
  {
   "cell_type": "code",
   "execution_count": 2,
   "id": "a16eaa91",
   "metadata": {
    "scrolled": true
   },
   "outputs": [
    {
     "ename": "UnboundLocalError",
     "evalue": "local variable 'face_gray' referenced before assignment",
     "output_type": "error",
     "traceback": [
      "\u001b[0;31m---------------------------------------------------------------------------\u001b[0m",
      "\u001b[0;31mUnboundLocalError\u001b[0m                         Traceback (most recent call last)",
      "\u001b[0;32m<ipython-input-2-605830acfeb3>\u001b[0m in \u001b[0;36mrun\u001b[0;34m(self)\u001b[0m\n\u001b[1;32m     56\u001b[0m                 \u001b[0;32mif\u001b[0m \u001b[0mi\u001b[0m \u001b[0;34m==\u001b[0m \u001b[0;36m30\u001b[0m\u001b[0;34m:\u001b[0m\u001b[0;34m\u001b[0m\u001b[0;34m\u001b[0m\u001b[0m\n\u001b[1;32m     57\u001b[0m                     \u001b[0;31m#print(face_gray.shape)\u001b[0m\u001b[0;34m\u001b[0m\u001b[0;34m\u001b[0m\u001b[0;34m\u001b[0m\u001b[0m\n\u001b[0;32m---> 58\u001b[0;31m                     \u001b[0mprint\u001b[0m\u001b[0;34m(\u001b[0m\u001b[0mget_prediction\u001b[0m\u001b[0;34m(\u001b[0m\u001b[0mface_gray\u001b[0m\u001b[0;34m)\u001b[0m\u001b[0;34m)\u001b[0m\u001b[0;34m\u001b[0m\u001b[0;34m\u001b[0m\u001b[0m\n\u001b[0m\u001b[1;32m     59\u001b[0m                     \u001b[0mi\u001b[0m\u001b[0;34m=\u001b[0m \u001b[0;36m0\u001b[0m\u001b[0;34m\u001b[0m\u001b[0;34m\u001b[0m\u001b[0m\n\u001b[1;32m     60\u001b[0m                 \u001b[0;32melse\u001b[0m\u001b[0;34m:\u001b[0m\u001b[0;34m\u001b[0m\u001b[0;34m\u001b[0m\u001b[0m\n",
      "\u001b[0;31mUnboundLocalError\u001b[0m: local variable 'face_gray' referenced before assignment"
     ]
    },
    {
     "ename": "SystemExit",
     "evalue": "0",
     "output_type": "error",
     "traceback": [
      "An exception has occurred, use %tb to see the full traceback.\n",
      "\u001b[0;31mSystemExit\u001b[0m\u001b[0;31m:\u001b[0m 0\n"
     ]
    },
    {
     "name": "stderr",
     "output_type": "stream",
     "text": [
      "/home/oobonioo/miniconda3/envs/happy/lib/python3.8/site-packages/IPython/core/interactiveshell.py:3452: UserWarning: To exit: use 'exit', 'quit', or Ctrl-D.\n",
      "  warn(\"To exit: use 'exit', 'quit', or Ctrl-D.\", stacklevel=1)\n"
     ]
    }
   ],
   "source": [
    "## https://www.codepile.net/pile/ey9KAnxn\n",
    "import sys\n",
    "from PyQt5.QtGui import *\n",
    "from PyQt5.QtWidgets import *\n",
    "from PyQt5.QtCore import *\n",
    "import cv2\n",
    "\n",
    "face_cascade = cv2.CascadeClassifier('assets/haarcascade_frontalface_default.xml')\n",
    "\n",
    "class MainWindow(QWidget):\n",
    "    def __init__(self):\n",
    "        super(MainWindow, self).__init__()\n",
    "\n",
    "        self.VBL = QVBoxLayout()\n",
    "\n",
    "        self.FeedLabel = QLabel()\n",
    "        self.VBL.addWidget(self.FeedLabel)\n",
    "\n",
    "        self.CancelBTN = QPushButton(\"Cancel\")\n",
    "        self.CancelBTN.clicked.connect(self.CancelFeed)\n",
    "        self.VBL.addWidget(self.CancelBTN)\n",
    "\n",
    "\n",
    "        self.Worker1 = Worker1()\n",
    "\n",
    "        self.Worker1.start()\n",
    "        self.Worker1.ImageUpdate.connect(self.ImageUpdateSlot)\n",
    "        \n",
    "        self.textOutput = QTextEdit() \n",
    "        self.VBL.addWidget(self.textOutput)\n",
    "        \n",
    "        self.setLayout(self.VBL)\n",
    "\n",
    "    def ImageUpdateSlot(self, Image):\n",
    "        self.FeedLabel.setPixmap(QPixmap.fromImage(Image))\n",
    "\n",
    "    def CancelFeed(self):\n",
    "        self.Worker1.stop()\n",
    "\n",
    "class Worker1(QThread):\n",
    "    ImageUpdate = pyqtSignal(QImage)\n",
    "    def run(self):\n",
    "        self.ThreadActive = True\n",
    "        Capture = cv2.VideoCapture(0)\n",
    "        i = 0\n",
    "        while self.ThreadActive:\n",
    "            ret, frame = Capture.read()\n",
    "            if ret:\n",
    "                Image = cv2.cvtColor(frame, cv2.COLOR_BGR2RGB)\n",
    "                gray = cv2.cvtColor(frame, cv2.COLOR_BGR2GRAY)\n",
    "                faces = face_cascade.detectMultiScale(gray, 1.3, 5)\n",
    "                for (x,y,w,h) in faces:\n",
    "                    cv2.rectangle(Image,(x,y),(x+w,y+h),(255,0,0),2)\n",
    "                    face_gray = gray[y:y+h, x:x+w]\n",
    "                FlippedImage = cv2.flip(Image, 1)\n",
    "                if i == 30:\n",
    "                    print(face_gray.shape)\n",
    "                    print(get_prediction(face_gray))\n",
    "                    i= 0\n",
    "                else:\n",
    "                    i+=1\n",
    "                ConvertToQtFormat = QImage(FlippedImage.data, FlippedImage.shape[1], FlippedImage.shape[0], QImage.Format_RGB888)\n",
    "                Pic = ConvertToQtFormat.scaled(640, 480, Qt.KeepAspectRatio)\n",
    "                self.ImageUpdate.emit(Pic)\n",
    "    def stop(self):\n",
    "        self.ThreadActive = False\n",
    "        self.quit()\n",
    "\n",
    "if __name__ == \"__main__\":\n",
    "    App = QApplication(sys.argv)\n",
    "    Root = MainWindow()\n",
    "    Root.show()\n",
    "    sys.exit(App.exec())"
   ]
  },
  {
   "cell_type": "code",
   "execution_count": null,
   "id": "f37276c7",
   "metadata": {},
   "outputs": [],
   "source": []
  },
  {
   "cell_type": "code",
   "execution_count": null,
   "id": "74471c28",
   "metadata": {},
   "outputs": [],
   "source": []
  }
 ],
 "metadata": {
  "kernelspec": {
   "display_name": "Python 3",
   "language": "python",
   "name": "python3"
  },
  "language_info": {
   "codemirror_mode": {
    "name": "ipython",
    "version": 3
   },
   "file_extension": ".py",
   "mimetype": "text/x-python",
   "name": "python",
   "nbconvert_exporter": "python",
   "pygments_lexer": "ipython3",
   "version": "3.8.12"
  }
 },
 "nbformat": 4,
 "nbformat_minor": 5
}
