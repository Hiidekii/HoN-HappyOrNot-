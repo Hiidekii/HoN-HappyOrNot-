{
 "cells": [
  {
   "cell_type": "code",
   "execution_count": null,
   "id": "9db5d3ba",
   "metadata": {},
   "outputs": [],
   "source": [
    "import face_recognition as fr\n",
    "from PIL import Image\n",
    "from os import listdir\n",
    "import matplotlib.pyplot as plt\n",
    "import glob\n",
    "import numpy as np\n"
   ]
  },
  {
   "cell_type": "code",
   "execution_count": null,
   "id": "6a9ac7b0",
   "metadata": {},
   "outputs": [],
   "source": [
    "paths = [\"data/CK+/\",\"data/fer/train/\",\"data/TFEID/\"]\n",
    "# data  = listdir(path)\n",
    "ignore = [\"morralla\",\".DS_Store\",\"contempt\"]\n",
    "imgs = []\n",
    "state = []"
   ]
  },
  {
   "cell_type": "code",
   "execution_count": null,
   "id": "355c9697",
   "metadata": {},
   "outputs": [],
   "source": [
    "for path in paths:\n",
    "    for item in listdir(path):\n",
    "        if item not in ignore:\n",
    "            imgs.extend([f\"{path}{item}/{p}\" for p in listdir(f\"{path}{item}\")])\n",
    "            state.extend([item for p in listdir(f\"{path}{item}\")])"
   ]
  },
  {
   "cell_type": "code",
   "execution_count": null,
   "id": "1a6c9fbe",
   "metadata": {},
   "outputs": [],
   "source": [
    "state[:5]"
   ]
  },
  {
   "cell_type": "code",
   "execution_count": null,
   "id": "5e8c4b35",
   "metadata": {},
   "outputs": [],
   "source": [
    "imgs_ = []\n",
    "for p in imgs:\n",
    "    temp = Image.open(p)\n",
    "    save = temp.copy()\n",
    "    imgs_.append(save)\n",
    "    temp.close()"
   ]
  },
  {
   "cell_type": "code",
   "execution_count": null,
   "id": "0bc745af",
   "metadata": {},
   "outputs": [],
   "source": [
    "len(imgs_)"
   ]
  },
  {
   "cell_type": "code",
   "execution_count": null,
   "id": "4348d012",
   "metadata": {},
   "outputs": [],
   "source": [
    "len(state)"
   ]
  },
  {
   "cell_type": "code",
   "execution_count": null,
   "id": "335e6700",
   "metadata": {},
   "outputs": [],
   "source": [
    "imgs_array = []\n",
    "HEIGHT, WIDTH =48,48\n",
    "for f in imgs_:\n",
    "    img = f.convert(\"L\").resize((HEIGHT, WIDTH))\n",
    "    imgs_array.append(np.array(img))"
   ]
  },
  {
   "cell_type": "code",
   "execution_count": null,
   "id": "b0c20287",
   "metadata": {},
   "outputs": [],
   "source": [
    "features = [fr.face_landmarks(im) for im in imgs_array]"
   ]
  },
  {
   "cell_type": "code",
   "execution_count": null,
   "id": "d293acca",
   "metadata": {},
   "outputs": [],
   "source": [
    "len(features)"
   ]
  },
  {
   "cell_type": "code",
   "execution_count": null,
   "id": "abb95015",
   "metadata": {},
   "outputs": [],
   "source": [
    "len(state)"
   ]
  },
  {
   "cell_type": "code",
   "execution_count": null,
   "id": "32157486",
   "metadata": {},
   "outputs": [],
   "source": [
    "landmarks = []\n",
    "new_states = []\n",
    "i=0\n",
    "for feat in features:\n",
    "    land = {}\n",
    "    if feat:\n",
    "        for name, values in feat[0].items():\n",
    "            land[name] =  np.array(values)[:,0], np.array(values)[:,1]\n",
    "        landmarks.append(land)\n",
    "        new_states.append(state[i])\n",
    "    i+=1\n",
    "        \n",
    "    "
   ]
  },
  {
   "cell_type": "code",
   "execution_count": null,
   "id": "121df6ba",
   "metadata": {},
   "outputs": [],
   "source": [
    "len(landmarks)"
   ]
  },
  {
   "cell_type": "code",
   "execution_count": null,
   "id": "b512a4d3",
   "metadata": {},
   "outputs": [],
   "source": [
    "len(new_states)"
   ]
  },
  {
   "cell_type": "code",
   "execution_count": null,
   "id": "cd59926a",
   "metadata": {},
   "outputs": [],
   "source": [
    "def fig2data ( fig ):\n",
    "    \"\"\"\n",
    "    @brief Convert a Matplotlib figure to a 4D numpy array with RGBA channels and return it\n",
    "    @param fig a matplotlib figure\n",
    "    @return a numpy 3D array of RGBA values\n",
    "    \"\"\"\n",
    "    # draw the renderer\n",
    "    fig.canvas.draw ( )\n",
    " \n",
    "    # Get the RGBA buffer from the figure\n",
    "    w,h = fig.canvas.get_width_height()\n",
    "    buf = np.frombuffer ( fig.canvas.tostring_argb(), dtype=np.uint8 )\n",
    "    buf.shape = ( w, h,4 )\n",
    " \n",
    "    # canvas.tostring_argb give pixmap in ARGB mode. Roll the ALPHA channel to have it in RGBA mode\n",
    "    buf = np.roll ( buf, 3, axis = 2 )\n",
    "    return buf"
   ]
  },
  {
   "cell_type": "code",
   "execution_count": null,
   "id": "9c80fc7b",
   "metadata": {},
   "outputs": [],
   "source": [
    "def fig2img ( fig ):\n",
    "    \"\"\"\n",
    "    @brief Convert a Matplotlib figure to a PIL Image in RGBA format and return it\n",
    "    @param fig a matplotlib figure\n",
    "    @return a Python Imaging Library ( PIL ) image\n",
    "    \"\"\"\n",
    "    # put the figure pixmap into a numpy array\n",
    "    buf = fig2data ( fig )\n",
    "    w, h, d = buf.shape\n",
    "    return Image.frombytes( \"RGB\", ( w ,h ), buf.tobytes( ) )"
   ]
  },
  {
   "cell_type": "code",
   "execution_count": null,
   "id": "56a42fe5",
   "metadata": {},
   "outputs": [],
   "source": [
    "land_imgs= []\n",
    "plt.ioff()\n",
    "for i in range(len(landmarks)):\n",
    "    figure = plt.figure(figsize=(6,6))\n",
    "    plt.axis(\"off\")\n",
    "    for name, (x,y)in landmarks[i].items():\n",
    "        plot = plt.plot(x,-y, linewidth = 4, c=\"k\")\n",
    "    land_imgs.append(fig2img(figure))\n",
    "    plt.close(figure)"
   ]
  },
  {
   "cell_type": "code",
   "execution_count": null,
   "id": "dc6f75cd",
   "metadata": {},
   "outputs": [],
   "source": [
    "# im = fig2data ( figure )\n",
    "# len(im)"
   ]
  },
  {
   "cell_type": "code",
   "execution_count": null,
   "id": "fb437298",
   "metadata": {},
   "outputs": [],
   "source": [
    "# plt.ioff()\n",
    "# for i in range(len(landmarks)):\n",
    "#     figure = plt.figure(figsize=(6,6))\n",
    "#     plt.axis(\"off\")\n",
    "#     for name, (x,y)in landmarks[i].items():\n",
    "#         plot = plt.plot(x,-y, linewidth = 4, c=\"k\")\n",
    "#     plt.savefig(f\"data/matplotfaces/{new_states[i]}_{i}.png\") \n",
    "#     plt.close(figure)"
   ]
  },
  {
   "cell_type": "code",
   "execution_count": null,
   "id": "3f39fbf8",
   "metadata": {},
   "outputs": [],
   "source": [
    "len(land_imgs)"
   ]
  },
  {
   "cell_type": "code",
   "execution_count": null,
   "id": "30811a51",
   "metadata": {},
   "outputs": [],
   "source": [
    "land_imgs[0].shape\n"
   ]
  },
  {
   "cell_type": "code",
   "execution_count": null,
   "id": "d10aa94b",
   "metadata": {},
   "outputs": [],
   "source": [
    "data_imgs = np.array(land_imgs)"
   ]
  },
  {
   "cell_type": "code",
   "execution_count": null,
   "id": "4516c834",
   "metadata": {},
   "outputs": [],
   "source": [
    "data_imgs = data_imgs/255"
   ]
  },
  {
   "cell_type": "code",
   "execution_count": null,
   "id": "50cdf161",
   "metadata": {},
   "outputs": [],
   "source": [
    "data_imgs.shape"
   ]
  },
  {
   "cell_type": "code",
   "execution_count": null,
   "id": "77558515",
   "metadata": {},
   "outputs": [],
   "source": [
    "data_imgs_r = np.reshape(data_imgs,(920,720,720))"
   ]
  },
  {
   "cell_type": "code",
   "execution_count": null,
   "id": "2b5d459a",
   "metadata": {},
   "outputs": [],
   "source": []
  },
  {
   "cell_type": "code",
   "execution_count": null,
   "id": "751fe068",
   "metadata": {},
   "outputs": [],
   "source": []
  }
 ],
 "metadata": {
  "kernelspec": {
   "display_name": "Python 3",
   "language": "python",
   "name": "python3"
  },
  "language_info": {
   "codemirror_mode": {
    "name": "ipython",
    "version": 3
   },
   "file_extension": ".py",
   "mimetype": "text/x-python",
   "name": "python",
   "nbconvert_exporter": "python",
   "pygments_lexer": "ipython3",
   "version": "3.8.12"
  }
 },
 "nbformat": 4,
 "nbformat_minor": 5
}
