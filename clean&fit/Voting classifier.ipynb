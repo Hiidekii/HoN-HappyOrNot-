{
 "cells": [
  {
   "cell_type": "code",
   "execution_count": 11,
   "id": "72161f0c",
   "metadata": {},
   "outputs": [],
   "source": [
    "from sklearn.ensemble import VotingClassifier\n",
    "from tensorflow.keras.models import load_model\n",
    "import glob"
   ]
  },
  {
   "cell_type": "code",
   "execution_count": 12,
   "id": "0e17e0c7",
   "metadata": {},
   "outputs": [],
   "source": [
    "modelos = glob.glob(\"*.h5\")"
   ]
  },
  {
   "cell_type": "code",
   "execution_count": 13,
   "id": "ce66ad45",
   "metadata": {},
   "outputs": [
    {
     "name": "stdout",
     "output_type": "stream",
     "text": [
      "complet_faces_best_model20211111.h5\n",
      "faces_iception_2_best_model20211112.h5\n",
      "complet_faces_best_model.h5\n",
      "model_v3_v2_p4.h5\n",
      "CK_train_only_model_v3_p1.h5\n",
      "CK_train_only_model_v3_p2.h5\n",
      "model_v3_p3.h5\n",
      "complet_faces_best_model20211110.h5\n",
      "model_v3_v2_p2.h5\n",
      "model_v3_p2.h5\n",
      "complet_faces_best_model20211113.h5\n"
     ]
    }
   ],
   "source": [
    "fited_models = []\n",
    "for modelo in modelos:\n",
    "    print(modelo)\n",
    "    fited_models.append(load_model(modelo))\n",
    "    "
   ]
  },
  {
   "cell_type": "code",
   "execution_count": 15,
   "id": "60d06552",
   "metadata": {},
   "outputs": [
    {
     "data": {
      "text/plain": [
       "[<keras.engine.sequential.Sequential at 0x7f3a4c047940>,\n",
       " <keras.engine.sequential.Sequential at 0x7f3a10443220>,\n",
       " <keras.engine.sequential.Sequential at 0x7f3a3c016580>,\n",
       " <keras.engine.sequential.Sequential at 0x7f3a3c023190>,\n",
       " <keras.engine.sequential.Sequential at 0x7f3a104b97c0>,\n",
       " <keras.engine.sequential.Sequential at 0x7f3a3e73cac0>,\n",
       " <keras.engine.sequential.Sequential at 0x7f3a10454850>,\n",
       " <keras.engine.sequential.Sequential at 0x7f3a102b6700>,\n",
       " <keras.engine.sequential.Sequential at 0x7f3a107d85b0>,\n",
       " <keras.engine.sequential.Sequential at 0x7f3a3e57bf70>,\n",
       " <keras.engine.sequential.Sequential at 0x7f3a1047f250>]"
      ]
     },
     "execution_count": 15,
     "metadata": {},
     "output_type": "execute_result"
    }
   ],
   "source": [
    "fited_models\n"
   ]
  },
  {
   "cell_type": "code",
   "execution_count": null,
   "id": "6ebebc7e",
   "metadata": {},
   "outputs": [],
   "source": []
  }
 ],
 "metadata": {
  "kernelspec": {
   "display_name": "Python 3 (ipykernel)",
   "language": "python",
   "name": "python3"
  },
  "language_info": {
   "codemirror_mode": {
    "name": "ipython",
    "version": 3
   },
   "file_extension": ".py",
   "mimetype": "text/x-python",
   "name": "python",
   "nbconvert_exporter": "python",
   "pygments_lexer": "ipython3",
   "version": "3.9.6"
  }
 },
 "nbformat": 4,
 "nbformat_minor": 5
}
